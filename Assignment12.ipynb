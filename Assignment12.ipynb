{
 "cells": [
  {
   "cell_type": "code",
   "execution_count": 1,
   "id": "8d17b26e-3afc-43fa-9c8c-005768876a3d",
   "metadata": {},
   "outputs": [],
   "source": [
    "#import the necessary Python libraries \n",
    "import requests\n",
    "from bs4 import BeautifulSoup\n",
    "import csv\n",
    "\n"
   ]
  },
  {
   "cell_type": "code",
   "execution_count": 2,
   "id": "441acd49-196c-413a-a989-17ed19bcde43",
   "metadata": {},
   "outputs": [],
   "source": [
    "# use requests to make a GET HTTP requests for the url: https://authoraditiagarwal.com/ by making a GET request.\n",
    "response = requests.get('https://authoraditiagarwal.com/')"
   ]
  },
  {
   "cell_type": "code",
   "execution_count": null,
   "id": "7d68922e-0fac-463b-a2ac-725c0ecc6a91",
   "metadata": {},
   "outputs": [],
   "source": [
    "file = open(\"copy.txt\", \"w\") \n",
    "f.writerow(['Title'])\n",
    "f.writerow([soup.title.text])\n",
    "data = soup.get_text()\n",
    "data\n",
    "file.write(soup.get_text())"
   ]
  },
  {
   "cell_type": "code",
   "execution_count": null,
   "id": "54cf541d-f67a-43e2-912e-a0ff15e83c8e",
   "metadata": {},
   "outputs": [],
   "source": [
    "\n",
    "f = csv.writer(open(' dataScapping1.csv ','w'))\n",
    "f.writerow(['Title'])\n",
    "f.writerow([soup.title.text])"
   ]
  },
  {
   "cell_type": "code",
   "execution_count": null,
   "id": "98478ae2-8749-45f0-ad2b-a40142809189",
   "metadata": {},
   "outputs": [],
   "source": []
  }
 ],
 "metadata": {
  "kernelspec": {
   "display_name": "Python 3 (ipykernel)",
   "language": "python",
   "name": "python3"
  },
  "language_info": {
   "codemirror_mode": {
    "name": "ipython",
    "version": 3
   },
   "file_extension": ".py",
   "mimetype": "text/x-python",
   "name": "python",
   "nbconvert_exporter": "python",
   "pygments_lexer": "ipython3",
   "version": "3.9.7"
  }
 },
 "nbformat": 4,
 "nbformat_minor": 5
}
